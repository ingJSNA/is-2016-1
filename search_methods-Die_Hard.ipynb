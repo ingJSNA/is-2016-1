{
 "cells": [
  {
   "cell_type": "code",
   "execution_count": 70,
   "metadata": {
    "collapsed": false
   },
   "outputs": [],
   "source": [
    "import util\n",
    "import search\n",
    "from graphviz import Graph, Digraph\n",
    "from IPython.display import display"
   ]
  },
  {
   "cell_type": "markdown",
   "metadata": {},
   "source": [
    "# Uninformed Search"
   ]
  },
  {
   "cell_type": "markdown",
   "metadata": {},
   "source": [
    "## A search problem"
   ]
  },
  {
   "cell_type": "code",
   "execution_count": 74,
   "metadata": {
    "collapsed": false
   },
   "outputs": [],
   "source": [
    "class graph_problem(search.SearchProblem):\n",
    "    def __init__(self, start, capacities, goal):\n",
    "        \n",
    "        self.start = start\n",
    "        self.capacities = capacities\n",
    "        self.goal = goal\n",
    "        \n",
    "    def getStartState(self):\n",
    "        return self.start\n",
    "\n",
    "    def isGoalState(self, state):\n",
    "        if self.goal in state:\n",
    "            return True\n",
    "        return False\n",
    "\n",
    "    def getSuccessors(self, state):\n",
    "        successors = []\n",
    "        for i in range(0, len(state)):\n",
    "            # fill\n",
    "            suc = list(state)\n",
    "            suc[i] = self.capacities[i]\n",
    "            successors.append([tuple(suc), str(state) + ' -> '+ str(tuple(suc)),1])\n",
    "            \n",
    "            # empty\n",
    "            suc = list(state)\n",
    "            suc[i] = 0\n",
    "            successors.append([tuple(suc), str(state) + ' -> '+ str(tuple(suc)),1])\n",
    "            \n",
    "            # move\n",
    "            for j in range(0, len(state)):\n",
    "                if i != j:\n",
    "                    suc = list(state)\n",
    "                    x1 = suc[i]\n",
    "                    y1 = suc[j]\n",
    "                    x2 = min((x1+y1), self.capacities[i])\n",
    "                    y2 = y1 - (x2-x1)\n",
    "                    suc[i] = x2\n",
    "                    suc[j] = y2\n",
    "                    successors.append([tuple(suc), str(state) + ' -> '+ str(tuple(suc)),1])\n",
    "            \n",
    "        return successors"
   ]
  },
  {
   "cell_type": "code",
   "execution_count": 75,
   "metadata": {
    "collapsed": false
   },
   "outputs": [
    {
     "name": "stdout",
     "output_type": "stream",
     "text": [
      "(0, 0)\n",
      "True\n"
     ]
    }
   ],
   "source": [
    "problem1 = graph_problem((0,0), (2,5), 1)\n",
    "\n",
    "print problem1.getStartState()\n",
    "print problem1.isGoalState((5,1))"
   ]
  },
  {
   "cell_type": "markdown",
   "metadata": {},
   "source": [
    "## General graph search"
   ]
  },
  {
   "cell_type": "code",
   "execution_count": 76,
   "metadata": {
    "collapsed": true
   },
   "outputs": [],
   "source": [
    "class search_tree():\n",
    "    def __init__(self):\n",
    "        self.graph = Digraph()\n",
    "        \n",
    "    def addEdge(self, source, action, target):\n",
    "        self.graph.edge(str(source), str(target), action)\n",
    "    \n",
    "    def getDot(self):\n",
    "        return self.graph"
   ]
  },
  {
   "cell_type": "code",
   "execution_count": 77,
   "metadata": {
    "collapsed": true
   },
   "outputs": [],
   "source": [
    "def general_ui_search(problem, frontier_class):\n",
    "    visited = {}\n",
    "    tree = search_tree()\n",
    "    state = problem.getStartState()\n",
    "    visited[state] = 'gray'\n",
    "#    display(problem.getDot(visited))\n",
    "    frontier = frontier_class()\n",
    "    frontier.push((state, []))\n",
    "    while not frontier.isEmpty():\n",
    "        u, actions = frontier.pop()\n",
    "#        print 'Pop:', u \n",
    "        for v, action, cost in problem.getSuccessors(u):\n",
    "            if not v in visited:\n",
    "                tree.addEdge(u, action, v)\n",
    "                if problem.isGoalState(v):\n",
    "                    return  actions + [action], tree\n",
    "                visited[v] = 'gray'\n",
    "                frontier.push((v, actions + [action]))\n",
    "#            display(problem.getDot(visited))\n",
    "#            display(tree.getDot())\n",
    "        visited[u] = 'green'\n",
    "    return [], tree"
   ]
  },
  {
   "cell_type": "markdown",
   "metadata": {},
   "source": [
    "## Depth-first search"
   ]
  },
  {
   "cell_type": "code",
   "execution_count": 78,
   "metadata": {
    "collapsed": true
   },
   "outputs": [],
   "source": [
    "def dfs(problem):\n",
    "   return general_ui_search(problem, util.Stack) "
   ]
  },
  {
   "cell_type": "code",
   "execution_count": 79,
   "metadata": {
    "collapsed": false,
    "scrolled": false
   },
   "outputs": [
    {
     "name": "stdout",
     "output_type": "stream",
     "text": [
      "['(0, 0) -> (0, 5)', '(0, 5) -> (2, 3)', '(2, 3) -> (0, 3)', '(0, 3) -> (2, 1)']\n"
     ]
    },
    {
     "data": {
      "image/svg+xml": [
       "<?xml version=\"1.0\" encoding=\"UTF-8\" standalone=\"no\"?>\n",
       "<!DOCTYPE svg PUBLIC \"-//W3C//DTD SVG 1.1//EN\"\n",
       " \"http://www.w3.org/Graphics/SVG/1.1/DTD/svg11.dtd\">\n",
       "<!-- Generated by graphviz version 2.38.0 (20140413.2041)\n",
       " -->\n",
       "<!-- Title: %3 Pages: 1 -->\n",
       "<svg width=\"271pt\" height=\"392pt\"\n",
       " viewBox=\"0.00 0.00 270.55 392.00\" xmlns=\"http://www.w3.org/2000/svg\" xmlns:xlink=\"http://www.w3.org/1999/xlink\">\n",
       "<g id=\"graph0\" class=\"graph\" transform=\"scale(1 1) rotate(0) translate(4 388)\">\n",
       "<title>%3</title>\n",
       "<polygon fill=\"white\" stroke=\"none\" points=\"-4,4 -4,-388 266.547,-388 266.547,4 -4,4\"/>\n",
       "<!-- (0, 0) -->\n",
       "<g id=\"node1\" class=\"node\"><title>(0, 0)</title>\n",
       "<ellipse fill=\"none\" stroke=\"black\" cx=\"81.5473\" cy=\"-366\" rx=\"30.5947\" ry=\"18\"/>\n",
       "<text text-anchor=\"middle\" x=\"81.5473\" y=\"-362.3\" font-family=\"Times,serif\" font-size=\"14.00\">(0, 0)</text>\n",
       "</g>\n",
       "<!-- (2, 0) -->\n",
       "<g id=\"node2\" class=\"node\"><title>(2, 0)</title>\n",
       "<ellipse fill=\"none\" stroke=\"black\" cx=\"30.5473\" cy=\"-279\" rx=\"30.5947\" ry=\"18\"/>\n",
       "<text text-anchor=\"middle\" x=\"30.5473\" y=\"-275.3\" font-family=\"Times,serif\" font-size=\"14.00\">(2, 0)</text>\n",
       "</g>\n",
       "<!-- (0, 0)&#45;&gt;(2, 0) -->\n",
       "<g id=\"edge1\" class=\"edge\"><title>(0, 0)&#45;&gt;(2, 0)</title>\n",
       "<path fill=\"none\" stroke=\"black\" d=\"M57.7098,-354.478C47.7695,-348.764 37.2325,-340.658 31.5473,-330 27.8951,-323.153 26.6711,-314.993 26.6251,-307.271\"/>\n",
       "<polygon fill=\"black\" stroke=\"black\" points=\"30.1257,-307.352 27.1749,-297.177 23.1361,-306.971 30.1257,-307.352\"/>\n",
       "<text text-anchor=\"middle\" x=\"71.0473\" y=\"-318.8\" font-family=\"Times,serif\" font-size=\"14.00\">(0, 0) &#45;&gt; (2, 0)</text>\n",
       "</g>\n",
       "<!-- (0, 5) -->\n",
       "<g id=\"node3\" class=\"node\"><title>(0, 5)</title>\n",
       "<ellipse fill=\"none\" stroke=\"black\" cx=\"132.547\" cy=\"-279\" rx=\"30.5947\" ry=\"18\"/>\n",
       "<text text-anchor=\"middle\" x=\"132.547\" y=\"-275.3\" font-family=\"Times,serif\" font-size=\"14.00\">(0, 5)</text>\n",
       "</g>\n",
       "<!-- (0, 0)&#45;&gt;(0, 5) -->\n",
       "<g id=\"edge2\" class=\"edge\"><title>(0, 0)&#45;&gt;(0, 5)</title>\n",
       "<path fill=\"none\" stroke=\"black\" d=\"M95.8132,-349.676C100.855,-343.796 106.318,-336.848 110.547,-330 115.102,-322.624 119.209,-314.141 122.607,-306.282\"/>\n",
       "<polygon fill=\"black\" stroke=\"black\" points=\"125.944,-307.37 126.513,-296.791 119.471,-304.706 125.944,-307.37\"/>\n",
       "<text text-anchor=\"middle\" x=\"158.047\" y=\"-318.8\" font-family=\"Times,serif\" font-size=\"14.00\">(0, 0) &#45;&gt; (0, 5)</text>\n",
       "</g>\n",
       "<!-- (2, 5) -->\n",
       "<g id=\"node4\" class=\"node\"><title>(2, 5)</title>\n",
       "<ellipse fill=\"none\" stroke=\"black\" cx=\"81.5473\" cy=\"-192\" rx=\"30.5947\" ry=\"18\"/>\n",
       "<text text-anchor=\"middle\" x=\"81.5473\" y=\"-188.3\" font-family=\"Times,serif\" font-size=\"14.00\">(2, 5)</text>\n",
       "</g>\n",
       "<!-- (0, 5)&#45;&gt;(2, 5) -->\n",
       "<g id=\"edge3\" class=\"edge\"><title>(0, 5)&#45;&gt;(2, 5)</title>\n",
       "<path fill=\"none\" stroke=\"black\" d=\"M108.71,-267.478C98.7695,-261.764 88.2325,-253.658 82.5473,-243 78.8951,-236.153 77.6711,-227.993 77.6251,-220.271\"/>\n",
       "<polygon fill=\"black\" stroke=\"black\" points=\"81.1257,-220.352 78.1749,-210.177 74.1361,-219.971 81.1257,-220.352\"/>\n",
       "<text text-anchor=\"middle\" x=\"122.047\" y=\"-231.8\" font-family=\"Times,serif\" font-size=\"14.00\">(0, 5) &#45;&gt; (2, 5)</text>\n",
       "</g>\n",
       "<!-- (2, 3) -->\n",
       "<g id=\"node5\" class=\"node\"><title>(2, 3)</title>\n",
       "<ellipse fill=\"none\" stroke=\"black\" cx=\"183.547\" cy=\"-192\" rx=\"30.5947\" ry=\"18\"/>\n",
       "<text text-anchor=\"middle\" x=\"183.547\" y=\"-188.3\" font-family=\"Times,serif\" font-size=\"14.00\">(2, 3)</text>\n",
       "</g>\n",
       "<!-- (0, 5)&#45;&gt;(2, 3) -->\n",
       "<g id=\"edge4\" class=\"edge\"><title>(0, 5)&#45;&gt;(2, 3)</title>\n",
       "<path fill=\"none\" stroke=\"black\" d=\"M146.813,-262.676C151.855,-256.796 157.318,-249.848 161.547,-243 166.102,-235.624 170.209,-227.141 173.607,-219.282\"/>\n",
       "<polygon fill=\"black\" stroke=\"black\" points=\"176.944,-220.37 177.513,-209.791 170.471,-217.706 176.944,-220.37\"/>\n",
       "<text text-anchor=\"middle\" x=\"208.047\" y=\"-231.8\" font-family=\"Times,serif\" font-size=\"14.00\">(0, 5) &#45;&gt; (2, 3)</text>\n",
       "</g>\n",
       "<!-- (0, 3) -->\n",
       "<g id=\"node6\" class=\"node\"><title>(0, 3)</title>\n",
       "<ellipse fill=\"none\" stroke=\"black\" cx=\"183.547\" cy=\"-105\" rx=\"30.5947\" ry=\"18\"/>\n",
       "<text text-anchor=\"middle\" x=\"183.547\" y=\"-101.3\" font-family=\"Times,serif\" font-size=\"14.00\">(0, 3)</text>\n",
       "</g>\n",
       "<!-- (2, 3)&#45;&gt;(0, 3) -->\n",
       "<g id=\"edge5\" class=\"edge\"><title>(2, 3)&#45;&gt;(0, 3)</title>\n",
       "<path fill=\"none\" stroke=\"black\" d=\"M183.547,-173.799C183.547,-162.163 183.547,-146.548 183.547,-133.237\"/>\n",
       "<polygon fill=\"black\" stroke=\"black\" points=\"187.047,-133.175 183.547,-123.175 180.047,-133.175 187.047,-133.175\"/>\n",
       "<text text-anchor=\"middle\" x=\"223.047\" y=\"-144.8\" font-family=\"Times,serif\" font-size=\"14.00\">(2, 3) &#45;&gt; (0, 3)</text>\n",
       "</g>\n",
       "<!-- (2, 1) -->\n",
       "<g id=\"node7\" class=\"node\"><title>(2, 1)</title>\n",
       "<ellipse fill=\"none\" stroke=\"black\" cx=\"183.547\" cy=\"-18\" rx=\"30.5947\" ry=\"18\"/>\n",
       "<text text-anchor=\"middle\" x=\"183.547\" y=\"-14.3\" font-family=\"Times,serif\" font-size=\"14.00\">(2, 1)</text>\n",
       "</g>\n",
       "<!-- (0, 3)&#45;&gt;(2, 1) -->\n",
       "<g id=\"edge6\" class=\"edge\"><title>(0, 3)&#45;&gt;(2, 1)</title>\n",
       "<path fill=\"none\" stroke=\"black\" d=\"M183.547,-86.799C183.547,-75.1626 183.547,-59.5479 183.547,-46.2368\"/>\n",
       "<polygon fill=\"black\" stroke=\"black\" points=\"187.047,-46.1754 183.547,-36.1754 180.047,-46.1755 187.047,-46.1754\"/>\n",
       "<text text-anchor=\"middle\" x=\"223.047\" y=\"-57.8\" font-family=\"Times,serif\" font-size=\"14.00\">(0, 3) &#45;&gt; (2, 1)</text>\n",
       "</g>\n",
       "</g>\n",
       "</svg>\n"
      ],
      "text/plain": [
       "<graphviz.dot.Digraph at 0x7fc9135bcc50>"
      ]
     },
     "metadata": {},
     "output_type": "display_data"
    }
   ],
   "source": [
    "actions, tree = dfs(problem1)\n",
    "print actions\n",
    "display(tree.getDot())"
   ]
  },
  {
   "cell_type": "markdown",
   "metadata": {},
   "source": [
    "## Breadth-first search"
   ]
  },
  {
   "cell_type": "code",
   "execution_count": 80,
   "metadata": {
    "collapsed": true
   },
   "outputs": [],
   "source": [
    "def bfs(problem):\n",
    "   return general_ui_search(problem, util.Queue) "
   ]
  },
  {
   "cell_type": "code",
   "execution_count": 81,
   "metadata": {
    "collapsed": false,
    "scrolled": false
   },
   "outputs": [
    {
     "name": "stdout",
     "output_type": "stream",
     "text": [
      "['(0, 0) -> (0, 5)', '(0, 5) -> (2, 3)', '(2, 3) -> (0, 3)', '(0, 3) -> (2, 1)']\n"
     ]
    },
    {
     "data": {
      "image/svg+xml": [
       "<?xml version=\"1.0\" encoding=\"UTF-8\" standalone=\"no\"?>\n",
       "<!DOCTYPE svg PUBLIC \"-//W3C//DTD SVG 1.1//EN\"\n",
       " \"http://www.w3.org/Graphics/SVG/1.1/DTD/svg11.dtd\">\n",
       "<!-- Generated by graphviz version 2.38.0 (20140413.2041)\n",
       " -->\n",
       "<!-- Title: %3 Pages: 1 -->\n",
       "<svg width=\"322pt\" height=\"392pt\"\n",
       " viewBox=\"0.00 0.00 321.55 392.00\" xmlns=\"http://www.w3.org/2000/svg\" xmlns:xlink=\"http://www.w3.org/1999/xlink\">\n",
       "<g id=\"graph0\" class=\"graph\" transform=\"scale(1 1) rotate(0) translate(4 388)\">\n",
       "<title>%3</title>\n",
       "<polygon fill=\"white\" stroke=\"none\" points=\"-4,4 -4,-388 317.547,-388 317.547,4 -4,4\"/>\n",
       "<!-- (0, 0) -->\n",
       "<g id=\"node1\" class=\"node\"><title>(0, 0)</title>\n",
       "<ellipse fill=\"none\" stroke=\"black\" cx=\"183.547\" cy=\"-366\" rx=\"30.5947\" ry=\"18\"/>\n",
       "<text text-anchor=\"middle\" x=\"183.547\" y=\"-362.3\" font-family=\"Times,serif\" font-size=\"14.00\">(0, 0)</text>\n",
       "</g>\n",
       "<!-- (2, 0) -->\n",
       "<g id=\"node2\" class=\"node\"><title>(2, 0)</title>\n",
       "<ellipse fill=\"none\" stroke=\"black\" cx=\"132.547\" cy=\"-279\" rx=\"30.5947\" ry=\"18\"/>\n",
       "<text text-anchor=\"middle\" x=\"132.547\" y=\"-275.3\" font-family=\"Times,serif\" font-size=\"14.00\">(2, 0)</text>\n",
       "</g>\n",
       "<!-- (0, 0)&#45;&gt;(2, 0) -->\n",
       "<g id=\"edge1\" class=\"edge\"><title>(0, 0)&#45;&gt;(2, 0)</title>\n",
       "<path fill=\"none\" stroke=\"black\" d=\"M159.71,-354.478C149.77,-348.764 139.233,-340.658 133.547,-330 129.895,-323.153 128.671,-314.993 128.625,-307.271\"/>\n",
       "<polygon fill=\"black\" stroke=\"black\" points=\"132.126,-307.352 129.175,-297.177 125.136,-306.971 132.126,-307.352\"/>\n",
       "<text text-anchor=\"middle\" x=\"173.047\" y=\"-318.8\" font-family=\"Times,serif\" font-size=\"14.00\">(0, 0) &#45;&gt; (2, 0)</text>\n",
       "</g>\n",
       "<!-- (0, 5) -->\n",
       "<g id=\"node3\" class=\"node\"><title>(0, 5)</title>\n",
       "<ellipse fill=\"none\" stroke=\"black\" cx=\"234.547\" cy=\"-279\" rx=\"30.5947\" ry=\"18\"/>\n",
       "<text text-anchor=\"middle\" x=\"234.547\" y=\"-275.3\" font-family=\"Times,serif\" font-size=\"14.00\">(0, 5)</text>\n",
       "</g>\n",
       "<!-- (0, 0)&#45;&gt;(0, 5) -->\n",
       "<g id=\"edge2\" class=\"edge\"><title>(0, 0)&#45;&gt;(0, 5)</title>\n",
       "<path fill=\"none\" stroke=\"black\" d=\"M197.813,-349.676C202.855,-343.796 208.318,-336.848 212.547,-330 217.102,-322.624 221.209,-314.141 224.607,-306.282\"/>\n",
       "<polygon fill=\"black\" stroke=\"black\" points=\"227.944,-307.37 228.513,-296.791 221.471,-304.706 227.944,-307.37\"/>\n",
       "<text text-anchor=\"middle\" x=\"259.047\" y=\"-318.8\" font-family=\"Times,serif\" font-size=\"14.00\">(0, 0) &#45;&gt; (0, 5)</text>\n",
       "</g>\n",
       "<!-- (2, 5) -->\n",
       "<g id=\"node4\" class=\"node\"><title>(2, 5)</title>\n",
       "<ellipse fill=\"none\" stroke=\"black\" cx=\"30.5473\" cy=\"-192\" rx=\"30.5947\" ry=\"18\"/>\n",
       "<text text-anchor=\"middle\" x=\"30.5473\" y=\"-188.3\" font-family=\"Times,serif\" font-size=\"14.00\">(2, 5)</text>\n",
       "</g>\n",
       "<!-- (2, 0)&#45;&gt;(2, 5) -->\n",
       "<g id=\"edge3\" class=\"edge\"><title>(2, 0)&#45;&gt;(2, 5)</title>\n",
       "<path fill=\"none\" stroke=\"black\" d=\"M104.272,-272.117C86.4852,-267.096 64.2052,-258.194 49.5473,-243 43.4052,-236.633 39.2033,-228.081 36.3481,-219.851\"/>\n",
       "<polygon fill=\"black\" stroke=\"black\" points=\"39.6721,-218.749 33.4934,-210.142 32.9563,-220.723 39.6721,-218.749\"/>\n",
       "<text text-anchor=\"middle\" x=\"89.0473\" y=\"-231.8\" font-family=\"Times,serif\" font-size=\"14.00\">(2, 0) &#45;&gt; (2, 5)</text>\n",
       "</g>\n",
       "<!-- (0, 2) -->\n",
       "<g id=\"node5\" class=\"node\"><title>(0, 2)</title>\n",
       "<ellipse fill=\"none\" stroke=\"black\" cx=\"132.547\" cy=\"-192\" rx=\"30.5947\" ry=\"18\"/>\n",
       "<text text-anchor=\"middle\" x=\"132.547\" y=\"-188.3\" font-family=\"Times,serif\" font-size=\"14.00\">(0, 2)</text>\n",
       "</g>\n",
       "<!-- (2, 0)&#45;&gt;(0, 2) -->\n",
       "<g id=\"edge4\" class=\"edge\"><title>(2, 0)&#45;&gt;(0, 2)</title>\n",
       "<path fill=\"none\" stroke=\"black\" d=\"M132.547,-260.799C132.547,-249.163 132.547,-233.548 132.547,-220.237\"/>\n",
       "<polygon fill=\"black\" stroke=\"black\" points=\"136.047,-220.175 132.547,-210.175 129.047,-220.175 136.047,-220.175\"/>\n",
       "<text text-anchor=\"middle\" x=\"172.047\" y=\"-231.8\" font-family=\"Times,serif\" font-size=\"14.00\">(2, 0) &#45;&gt; (0, 2)</text>\n",
       "</g>\n",
       "<!-- (2, 3) -->\n",
       "<g id=\"node6\" class=\"node\"><title>(2, 3)</title>\n",
       "<ellipse fill=\"none\" stroke=\"black\" cx=\"234.547\" cy=\"-192\" rx=\"30.5947\" ry=\"18\"/>\n",
       "<text text-anchor=\"middle\" x=\"234.547\" y=\"-188.3\" font-family=\"Times,serif\" font-size=\"14.00\">(2, 3)</text>\n",
       "</g>\n",
       "<!-- (0, 5)&#45;&gt;(2, 3) -->\n",
       "<g id=\"edge5\" class=\"edge\"><title>(0, 5)&#45;&gt;(2, 3)</title>\n",
       "<path fill=\"none\" stroke=\"black\" d=\"M234.547,-260.799C234.547,-249.163 234.547,-233.548 234.547,-220.237\"/>\n",
       "<polygon fill=\"black\" stroke=\"black\" points=\"238.047,-220.175 234.547,-210.175 231.047,-220.175 238.047,-220.175\"/>\n",
       "<text text-anchor=\"middle\" x=\"274.047\" y=\"-231.8\" font-family=\"Times,serif\" font-size=\"14.00\">(0, 5) &#45;&gt; (2, 3)</text>\n",
       "</g>\n",
       "<!-- (2, 2) -->\n",
       "<g id=\"node7\" class=\"node\"><title>(2, 2)</title>\n",
       "<ellipse fill=\"none\" stroke=\"black\" cx=\"132.547\" cy=\"-105\" rx=\"30.5947\" ry=\"18\"/>\n",
       "<text text-anchor=\"middle\" x=\"132.547\" y=\"-101.3\" font-family=\"Times,serif\" font-size=\"14.00\">(2, 2)</text>\n",
       "</g>\n",
       "<!-- (0, 2)&#45;&gt;(2, 2) -->\n",
       "<g id=\"edge6\" class=\"edge\"><title>(0, 2)&#45;&gt;(2, 2)</title>\n",
       "<path fill=\"none\" stroke=\"black\" d=\"M132.547,-173.799C132.547,-162.163 132.547,-146.548 132.547,-133.237\"/>\n",
       "<polygon fill=\"black\" stroke=\"black\" points=\"136.047,-133.175 132.547,-123.175 129.047,-133.175 136.047,-133.175\"/>\n",
       "<text text-anchor=\"middle\" x=\"172.047\" y=\"-144.8\" font-family=\"Times,serif\" font-size=\"14.00\">(0, 2) &#45;&gt; (2, 2)</text>\n",
       "</g>\n",
       "<!-- (0, 3) -->\n",
       "<g id=\"node8\" class=\"node\"><title>(0, 3)</title>\n",
       "<ellipse fill=\"none\" stroke=\"black\" cx=\"234.547\" cy=\"-105\" rx=\"30.5947\" ry=\"18\"/>\n",
       "<text text-anchor=\"middle\" x=\"234.547\" y=\"-101.3\" font-family=\"Times,serif\" font-size=\"14.00\">(0, 3)</text>\n",
       "</g>\n",
       "<!-- (2, 3)&#45;&gt;(0, 3) -->\n",
       "<g id=\"edge7\" class=\"edge\"><title>(2, 3)&#45;&gt;(0, 3)</title>\n",
       "<path fill=\"none\" stroke=\"black\" d=\"M234.547,-173.799C234.547,-162.163 234.547,-146.548 234.547,-133.237\"/>\n",
       "<polygon fill=\"black\" stroke=\"black\" points=\"238.047,-133.175 234.547,-123.175 231.047,-133.175 238.047,-133.175\"/>\n",
       "<text text-anchor=\"middle\" x=\"274.047\" y=\"-144.8\" font-family=\"Times,serif\" font-size=\"14.00\">(2, 3) &#45;&gt; (0, 3)</text>\n",
       "</g>\n",
       "<!-- (0, 4) -->\n",
       "<g id=\"node9\" class=\"node\"><title>(0, 4)</title>\n",
       "<ellipse fill=\"none\" stroke=\"black\" cx=\"132.547\" cy=\"-18\" rx=\"30.5947\" ry=\"18\"/>\n",
       "<text text-anchor=\"middle\" x=\"132.547\" y=\"-14.3\" font-family=\"Times,serif\" font-size=\"14.00\">(0, 4)</text>\n",
       "</g>\n",
       "<!-- (2, 2)&#45;&gt;(0, 4) -->\n",
       "<g id=\"edge8\" class=\"edge\"><title>(2, 2)&#45;&gt;(0, 4)</title>\n",
       "<path fill=\"none\" stroke=\"black\" d=\"M132.547,-86.799C132.547,-75.1626 132.547,-59.5479 132.547,-46.2368\"/>\n",
       "<polygon fill=\"black\" stroke=\"black\" points=\"136.047,-46.1754 132.547,-36.1754 129.047,-46.1755 136.047,-46.1754\"/>\n",
       "<text text-anchor=\"middle\" x=\"172.047\" y=\"-57.8\" font-family=\"Times,serif\" font-size=\"14.00\">(2, 2) &#45;&gt; (0, 4)</text>\n",
       "</g>\n",
       "<!-- (2, 1) -->\n",
       "<g id=\"node10\" class=\"node\"><title>(2, 1)</title>\n",
       "<ellipse fill=\"none\" stroke=\"black\" cx=\"234.547\" cy=\"-18\" rx=\"30.5947\" ry=\"18\"/>\n",
       "<text text-anchor=\"middle\" x=\"234.547\" y=\"-14.3\" font-family=\"Times,serif\" font-size=\"14.00\">(2, 1)</text>\n",
       "</g>\n",
       "<!-- (0, 3)&#45;&gt;(2, 1) -->\n",
       "<g id=\"edge9\" class=\"edge\"><title>(0, 3)&#45;&gt;(2, 1)</title>\n",
       "<path fill=\"none\" stroke=\"black\" d=\"M234.547,-86.799C234.547,-75.1626 234.547,-59.5479 234.547,-46.2368\"/>\n",
       "<polygon fill=\"black\" stroke=\"black\" points=\"238.047,-46.1754 234.547,-36.1754 231.047,-46.1755 238.047,-46.1754\"/>\n",
       "<text text-anchor=\"middle\" x=\"274.047\" y=\"-57.8\" font-family=\"Times,serif\" font-size=\"14.00\">(0, 3) &#45;&gt; (2, 1)</text>\n",
       "</g>\n",
       "</g>\n",
       "</svg>\n"
      ],
      "text/plain": [
       "<graphviz.dot.Digraph at 0x7fc9135bce50>"
      ]
     },
     "metadata": {},
     "output_type": "display_data"
    }
   ],
   "source": [
    "actions1, tree1 = bfs(problem1)\n",
    "print actions1\n",
    "display(tree1.getDot())"
   ]
  },
  {
   "cell_type": "code",
   "execution_count": null,
   "metadata": {
    "collapsed": true
   },
   "outputs": [],
   "source": [
    " "
   ]
  },
  {
   "cell_type": "code",
   "execution_count": null,
   "metadata": {
    "collapsed": true
   },
   "outputs": [],
   "source": []
  }
 ],
 "metadata": {
  "kernelspec": {
   "display_name": "Python 2",
   "language": "python",
   "name": "python2"
  },
  "language_info": {
   "codemirror_mode": {
    "name": "ipython",
    "version": 2
   },
   "file_extension": ".py",
   "mimetype": "text/x-python",
   "name": "python",
   "nbconvert_exporter": "python",
   "pygments_lexer": "ipython2",
   "version": "2.7.11"
  }
 },
 "nbformat": 4,
 "nbformat_minor": 0
}
