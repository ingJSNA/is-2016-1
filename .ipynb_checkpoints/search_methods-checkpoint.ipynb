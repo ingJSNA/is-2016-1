{
 "cells": [
  {
   "cell_type": "code",
   "execution_count": 1,
   "metadata": {
    "collapsed": false
   },
   "outputs": [
    {
     "ename": "ImportError",
     "evalue": "No module named graphviz",
     "output_type": "error",
     "traceback": [
      "\u001b[1;31m---------------------------------------------------------------------------\u001b[0m",
      "\u001b[1;31mImportError\u001b[0m                               Traceback (most recent call last)",
      "\u001b[1;32m<ipython-input-1-2d7256e3d1dd>\u001b[0m in \u001b[0;36m<module>\u001b[1;34m()\u001b[0m\n\u001b[0;32m      1\u001b[0m \u001b[1;32mimport\u001b[0m \u001b[0mutil\u001b[0m\u001b[1;33m\u001b[0m\u001b[0m\n\u001b[1;32m----> 2\u001b[1;33m \u001b[1;32mimport\u001b[0m \u001b[0msearch\u001b[0m\u001b[1;33m\u001b[0m\u001b[0m\n\u001b[0m\u001b[0;32m      3\u001b[0m \u001b[1;32mfrom\u001b[0m \u001b[0mgraphviz\u001b[0m \u001b[1;32mimport\u001b[0m \u001b[0mGraph\u001b[0m\u001b[1;33m,\u001b[0m \u001b[0mDigraph\u001b[0m\u001b[1;33m\u001b[0m\u001b[0m\n\u001b[0;32m      4\u001b[0m \u001b[1;32mfrom\u001b[0m \u001b[0mIPython\u001b[0m\u001b[1;33m.\u001b[0m\u001b[0mdisplay\u001b[0m \u001b[1;32mimport\u001b[0m \u001b[0mdisplay\u001b[0m\u001b[1;33m\u001b[0m\u001b[0m\n",
      "\u001b[1;32m/home/juan/Documentos/PosGrado/Sistemas inteligentes/is-2016-1/search.py\u001b[0m in \u001b[0;36m<module>\u001b[1;34m()\u001b[0m\n\u001b[0;32m     19\u001b[0m \u001b[1;33m\u001b[0m\u001b[0m\n\u001b[0;32m     20\u001b[0m \u001b[1;32mimport\u001b[0m \u001b[0mutil\u001b[0m\u001b[1;33m\u001b[0m\u001b[0m\n\u001b[1;32m---> 21\u001b[1;33m \u001b[1;32mimport\u001b[0m \u001b[0mgraphviz\u001b[0m\u001b[1;33m\u001b[0m\u001b[0m\n\u001b[0m\u001b[0;32m     22\u001b[0m \u001b[1;33m\u001b[0m\u001b[0m\n\u001b[0;32m     23\u001b[0m \u001b[1;33m\u001b[0m\u001b[0m\n",
      "\u001b[1;31mImportError\u001b[0m: No module named graphviz"
     ]
    }
   ],
   "source": [
    "import sys\n",
    "print(sys.version)\n",
    "import util\n",
    "import search\n",
    "from graphviz import Graph, Digraph\n",
    "from IPython.display import display"
   ]
  },
  {
   "cell_type": "markdown",
   "metadata": {},
   "source": [
    "# Uninformed Search"
   ]
  },
  {
   "cell_type": "markdown",
   "metadata": {},
   "source": [
    "## A search problem"
   ]
  },
  {
   "cell_type": "code",
   "execution_count": null,
   "metadata": {
    "collapsed": false
   },
   "outputs": [],
   "source": [
    "class graph_problem(search.SearchProblem):\n",
    "    def __init__(self, vertices, edges):\n",
    "        self.G = {v:{} for v in vertices}\n",
    "        for v1, v2, c in edges1:\n",
    "            (self.G[v1])[v2] = c\n",
    "            (self.G[v2])[v1] = c\n",
    "        self.start = vertices[0]\n",
    "        self.goal = vertices[-1]\n",
    "        \n",
    "    def getStartState(self):\n",
    "        return self.start\n",
    "\n",
    "    def isGoalState(self, state):\n",
    "        return self.goal == state\n",
    "\n",
    "    def getSuccessors(self, state):\n",
    "        successors = [(suc, state + '->' + suc, \n",
    "                       (self.G[state])[suc]) for suc in self.G[state]]\n",
    "        return successors\n",
    "    \n",
    "    def getDot(self, color):\n",
    "        dot = Graph(graph_attr = {'size':'3.5'})\n",
    "        for node in self.G:\n",
    "            if not node in color:\n",
    "                dot.node(node)\n",
    "            else:\n",
    "                dot.node(node, style = 'filled', color = color[node])\n",
    "        for n1 in self.G:\n",
    "            for n2 in self.G[n1]:\n",
    "                if n1 < n2:\n",
    "                    dot.edge(n1, n2)\n",
    "        return dot\n"
   ]
  },
  {
   "cell_type": "code",
   "execution_count": null,
   "metadata": {
    "collapsed": false
   },
   "outputs": [],
   "source": [
    "edges1 = [('v', 'r', 1), ('r', 's', 1), ('w', 't', 1),('s','w', 1),\n",
    "         ('w', 'x', 1), ('t', 'x', 1), ('t', 'u', 1), ('x', 'y', 1),\n",
    "         ('u', 'y', 1)]\n",
    "vertices1 = ['s', 'r', 't', 'u', 'v', 'w', 'x', 'y'] \n",
    "problem1 = graph_problem(vertices1, edges1)\n",
    "print problem1.G\n",
    "print problem1.G['w']\n",
    "print problem1.getStartState()\n",
    "print problem1.isGoalState('y')\n",
    "dot = problem1.getDot({})\n",
    "display(dot)"
   ]
  },
  {
   "cell_type": "markdown",
   "metadata": {},
   "source": [
    "## General graph search"
   ]
  },
  {
   "cell_type": "code",
   "execution_count": null,
   "metadata": {
    "collapsed": true
   },
   "outputs": [],
   "source": [
    "class search_tree():\n",
    "    def __init__(self):\n",
    "        self.graph = Digraph()\n",
    "        \n",
    "    def addEdge(self, source, action, target):\n",
    "        self.graph.edge(source, target, action)\n",
    "    \n",
    "    def getDot(self):\n",
    "        return self.graph\n"
   ]
  },
  {
   "cell_type": "code",
   "execution_count": null,
   "metadata": {
    "collapsed": true
   },
   "outputs": [],
   "source": [
    "def general_ui_search(problem, frontier_class):\n",
    "    visited = {}\n",
    "    tree = search_tree()\n",
    "    state = problem.getStartState()\n",
    "    visited[state] = 'gray'\n",
    "#    display(problem.getDot(visited))\n",
    "    frontier = frontier_class()\n",
    "    frontier.push((state, []))\n",
    "    while not frontier.isEmpty():\n",
    "        u, actions = frontier.pop()\n",
    "#        print 'Pop:', u \n",
    "        for v, action, cost in problem.getSuccessors(u):\n",
    "            if not v in visited:\n",
    "                tree.addEdge(u, action, v)\n",
    "                if problem.isGoalState(v):\n",
    "                    return  actions + [action], tree\n",
    "                visited[v] = 'gray'\n",
    "                frontier.push((v, actions + [action]))\n",
    "#            display(problem.getDot(visited))\n",
    "#            display(tree.getDot())\n",
    "        visited[u] = 'green'\n",
    "    return [], tree"
   ]
  },
  {
   "cell_type": "markdown",
   "metadata": {},
   "source": [
    "## Depth-first search"
   ]
  },
  {
   "cell_type": "code",
   "execution_count": null,
   "metadata": {
    "collapsed": true
   },
   "outputs": [],
   "source": [
    "def dfs(problem):\n",
    "   return general_ui_search(problem, util.Stack) "
   ]
  },
  {
   "cell_type": "code",
   "execution_count": null,
   "metadata": {
    "collapsed": false,
    "scrolled": false
   },
   "outputs": [],
   "source": [
    "actions, tree = dfs(problem1)\n",
    "print actions\n",
    "display(tree.getDot())"
   ]
  },
  {
   "cell_type": "markdown",
   "metadata": {},
   "source": [
    "## Breadth-first search"
   ]
  },
  {
   "cell_type": "code",
   "execution_count": null,
   "metadata": {
    "collapsed": true
   },
   "outputs": [],
   "source": [
    "def bfs(problem):\n",
    "   return general_ui_search(problem, util.Queue) "
   ]
  },
  {
   "cell_type": "code",
   "execution_count": null,
   "metadata": {
    "collapsed": false,
    "scrolled": false
   },
   "outputs": [],
   "source": [
    "actions1, tree1 = bfs(problem1)\n",
    "print actions\n",
    "display(tree1.getDot())"
   ]
  },
  {
   "cell_type": "code",
   "execution_count": null,
   "metadata": {
    "collapsed": true
   },
   "outputs": [],
   "source": [
    " "
   ]
  }
 ],
 "metadata": {
  "kernelspec": {
   "display_name": "Python 2",
   "language": "python",
   "name": "python2"
  },
  "language_info": {
   "codemirror_mode": {
    "name": "ipython",
    "version": 2
   },
   "file_extension": ".py",
   "mimetype": "text/x-python",
   "name": "python",
   "nbconvert_exporter": "python",
   "pygments_lexer": "ipython2",
   "version": "2.7.11"
  }
 },
 "nbformat": 4,
 "nbformat_minor": 0
}
